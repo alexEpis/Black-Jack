{
 "cells": [
  {
   "cell_type": "code",
   "execution_count": 37,
   "metadata": {
    "collapsed": true
   },
   "outputs": [],
   "source": [
    "from decks import card\n",
    "from decks import deck\n",
    "\n",
    "class player(object):    \n",
    "    \n",
    "    def __init__(self, name, total_money):\n",
    "        self.name = name\n",
    "        self.total_money = total_money\n",
    "        self.initialize()\n",
    "        \n",
    "    def __str__(self):\n",
    "        return \"{} has {} left.\".format(self.name, str(self.total_money))\n",
    "    \n",
    "    def initialize(self):\n",
    "        self.hand = []\n",
    "        self.splitted_hand = []\n",
    "        self.bet = 0\n",
    "        self.score = 0\n",
    "        self.score2 = 0\n",
    "        self.aces = 0\n",
    "        self.aces2 = 0\n",
    "        self.splitted = False\n",
    "        self.played_splitted = False\n",
    "            \n",
    "    def draw_card(self,card):\n",
    "        self.hand.append(card)\n",
    "        print(self.name + \" drawn \" + str(card))\n",
    "        if (card.number == 1):\n",
    "            self.aces += 1\n",
    "            self.score += 11\n",
    "        elif(card.number >= 10):\n",
    "            self.score += 10\n",
    "        else:\n",
    "            self.score += card.number\n",
    "        if (self.score > 21 and self.aces >= 1):\n",
    "            self.aces -= 1\n",
    "            self.score -= 10\n",
    "            \n",
    "    def do_split(self, card1, card2):\n",
    "        self.splitted = True\n",
    "        self.splitted_hand.append( self.hand.pop() )\n",
    "        self.score = self.hand[0].value\n",
    "        self.draw_card(card1)\n",
    "        print(\"You drawn {} for your first hand.\".format(card1))\n",
    "        self.splitted_hand.append(card2)\n",
    "        if (card2.number == 1):\n",
    "            self.aces2 += 1\n",
    "        self.score2 += card2.value\n",
    "        print(self.name + \" drawn \" + str(card2))\n",
    "        print(\"You drawn {} for your split hand.\".format(card2))\n",
    "    \n",
    "    def ask_bet(self):\n",
    "        while True:\n",
    "            bet = int(input('{}, how much money would you like to bet? '.format(self.name)))\n",
    "            if ( 1<= bet <= self.total_money ):\n",
    "                self.total_money = self.total_money - bet\n",
    "                self.bet = bet\n",
    "                break\n",
    "            print(\"Your bet has to be less than your total amount and more than 0.\")            \n",
    "            \n",
    "    def ask_user(self):\n",
    "        choices = ['Hit','Stand']\n",
    "        \n",
    "        if ( len(self.hand) <= 2 ):\n",
    "            choices.append('Double')\n",
    "        \n",
    "        if ( len(self.hand) == 2 and self.hand[0].value == self.hand[1].value and  self.splitted == False):\n",
    "            print(\"{} has two cards of same value.\".format(self.name))\n",
    "            choices.append('Split')\n",
    "            self.splitted = True\n",
    "        \n",
    "        choices.append('Surrender')\n",
    "        \n",
    "        string =\"Do you want to 1. Hit\"\n",
    "        for i in range(1,len(choices)):\n",
    "            string += \", \"+ str(i+1)+\". \"+choices[i]\n",
    "        \n",
    "        while True:\n",
    "            try:\n",
    "                answer = int(input(string))\n",
    "                if 1 <= answer <= len(choices):\n",
    "                    return choices[answer - 1]\n",
    "                else:\n",
    "                    5/0\n",
    "                break\n",
    "            except:\n",
    "                print(\"Something went wrong, please try again.\")\n",
    "                continue"
   ]
  },
  {
   "cell_type": "code",
   "execution_count": 38,
   "metadata": {
    "collapsed": false
   },
   "outputs": [
    {
     "name": "stdout",
     "output_type": "stream",
     "text": [
      "Alex has 100 left.\n"
     ]
    }
   ],
   "source": [
    "alex = player(\"Alex\",100)\n",
    "print(alex)"
   ]
  },
  {
   "cell_type": "code",
   "execution_count": 35,
   "metadata": {
    "collapsed": false
   },
   "outputs": [
    {
     "name": "stdout",
     "output_type": "stream",
     "text": [
      "10 Heart\n",
      "10 Diamont\n",
      "Jack Heart\n",
      "Ace Diamont\n"
     ]
    }
   ],
   "source": [
    "c1 = card(10,'Heart')\n",
    "print(c1)\n",
    "c2 = card(10, 'Diamont')\n",
    "print(c2)\n",
    "c3 = card(11,'Heart')\n",
    "print(c3)\n",
    "c4 = card(1, 'Diamont')\n",
    "print(c4)"
   ]
  },
  {
   "cell_type": "code",
   "execution_count": 36,
   "metadata": {
    "collapsed": false
   },
   "outputs": [
    {
     "name": "stdout",
     "output_type": "stream",
     "text": [
      "Alex drawn 10 Heart\n",
      "Alex drawn 10 Diamont\n",
      "10 Heart\n",
      "10 Diamont\n",
      "Alex drawn Jack Heart\n",
      "You drawn Jack Heart for your first hand.\n",
      "You drawn Ace Diamont for your split hand.\n",
      "10 Heart\n",
      "Jack Heart\n",
      "10 Diamont\n",
      "Ace Diamont\n"
     ]
    }
   ],
   "source": [
    "alex.initialize()\n",
    "alex.draw_card(c1)\n",
    "alex.draw_card(c2)\n",
    "for i in alex.hand:\n",
    "    print(i)\n",
    "for i in alex.splitted_hand:\n",
    "    print(i)\n",
    "alex.do_split(c3,c4)\n",
    "for i in alex.hand:\n",
    "    print(i)\n",
    "for i in alex.splitted_hand:\n",
    "    print(i)"
   ]
  }
 ],
 "metadata": {
  "kernelspec": {
   "display_name": "Python 3",
   "language": "python",
   "name": "python3"
  },
  "language_info": {
   "codemirror_mode": {
    "name": "ipython",
    "version": 3
   },
   "file_extension": ".py",
   "mimetype": "text/x-python",
   "name": "python",
   "nbconvert_exporter": "python",
   "pygments_lexer": "ipython3",
   "version": "3.5.1"
  }
 },
 "nbformat": 4,
 "nbformat_minor": 0
}
